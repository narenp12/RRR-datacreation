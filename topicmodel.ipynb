{
 "cells": [
  {
   "cell_type": "markdown",
   "id": "913d7f1f",
   "metadata": {},
   "source": [
    "# Notebook for unsupervised learning and topic modeling with NLTK and Gensim"
   ]
  },
  {
   "cell_type": "code",
   "execution_count": null,
   "id": "97e17812",
   "metadata": {},
   "outputs": [],
   "source": [
    "import pandas as pd\n",
    "import numpy as np\n",
    "import plotly.express as px\n",
    "import sklearn as sk\n",
    "import nltk\n",
    "import gensim\n",
    "import spacy\n",
    "import ast"
   ]
  },
  {
   "cell_type": "code",
   "execution_count": null,
   "id": "d69eb6db",
   "metadata": {},
   "outputs": [],
   "source": [
    "docs = pd.read_csv('phraseadded.csv').iloc[:, 2:]\n",
    "docs[\"concepts_found\"] = docs[\"concepts_found\"].apply(ast.literal_eval)\n",
    "docs[\"keyphrases\"] = docs[\"keyphrases\"].apply(ast.literal_eval)"
   ]
  },
  {
   "cell_type": "code",
   "execution_count": 46,
   "id": "1f2e758f",
   "metadata": {},
   "outputs": [
    {
     "data": {
      "application/vnd.microsoft.datawrangler.viewer.v0+json": {
       "columns": [
        {
         "name": "index",
         "rawType": "int64",
         "type": "integer"
        },
        {
         "name": "id",
         "rawType": "object",
         "type": "string"
        },
        {
         "name": "title",
         "rawType": "object",
         "type": "string"
        },
        {
         "name": "summary",
         "rawType": "object",
         "type": "string"
        },
        {
         "name": "keyphrases",
         "rawType": "object",
         "type": "unknown"
        },
        {
         "name": "concepts_found",
         "rawType": "object",
         "type": "unknown"
        }
       ],
       "conversionMethod": "pd.DataFrame",
       "ref": "a1b6df32-7631-4e9e-80e5-6e3b916faf68",
       "rows": [
        [
         "0",
         "cs-9308101v1",
         "Dynamic Backtracking",
         "Because of their occasional need to return to shallow points in a search\ntree, existing backtracking methods can sometimes erase meaningful progress\ntoward solving a search problem. In this paper, we present a method by which\nbacktrack points can be moved deeper in the search space, thereby avoiding this\ndifficulty. The technique developed is a variant of dependency-directed\nbacktracking that uses only polynomial space while still providing useful\ncontrol information and retaining the completeness guarantees provided by\nearlier approaches.",
         "[('backtracking', 0.5558), ('backtrack', 0.4264), ('search', 0.3659), ('tree', 0.2763), ('approaches', 0.2685)]",
         "['backtracking', 'backtrack', 'search', 'tree', 'approaches']"
        ],
        [
         "1",
         "cs-9308102v1",
         "A Market-Oriented Programming Environment and its Application to\n  Distributed Multicommodity Flow Problems",
         "Market price systems constitute a well-understood class of mechanisms that\nunder certain conditions provide effective decentralization of decision making\nwith minimal communication overhead. In a market-oriented programming approach\nto distributed problem solving, we derive the activities and resource\nallocations for a set of computational agents by computing the competitive\nequilibrium of an artificial economy. WALRAS provides basic constructs for\ndefining computational market structures, and protocols for deriving their\ncorresponding price equilibria. In a particular realization of this approach\nfor a form of multicommodity flow problem, we see that careful construction of\nthe decision process according to economic principles can lead to efficient\ndistributed resource allocation, and that the behavior of the system can be\nmeaningfully analyzed in economic terms.",
         "[('allocations', 0.4223), ('allocation', 0.4192), ('distributed', 0.3877), ('market', 0.3842), ('decentralization', 0.3838)]",
         "['allocations', 'allocation', 'distributed', 'market', 'decentralization']"
        ],
        [
         "2",
         "cs-9309101v1",
         "An Empirical Analysis of Search in GSAT",
         "We describe an extensive study of search in GSAT, an approximation procedure\nfor propositional satisfiability. GSAT performs greedy hill-climbing on the\nnumber of satisfied clauses in a truth assignment. Our experiments provide a\nmore complete picture of GSAT's search than previous accounts. We describe in\ndetail the two phases of search: rapid hill-climbing followed by a long plateau\nsearch. We demonstrate that when applied to randomly generated 3SAT problems,\nthere is a very simple scaling with problem size for both the mean number of\nsatisfied clauses and the mean branching rate. Our results allow us to make\ndetailed numerical conjectures about the length of the hill-climbing phase, the\naverage gradient of this phase, and to conjecture that both the average score\nand average branching rate decay exponentially during plateau search. We end by\nshowing how these results can be used to direct future theoretical analysis.\nThis work provides a case study of how computer experiments can be used to\nimprove understanding of the theoretical properties of algorithms.",
         "[('satisfiability', 0.5788), ('algorithms', 0.4699), ('3sat', 0.4436), ('propositional', 0.4182), ('clauses', 0.3874)]",
         "['satisfiability', 'algorithms', '3sat', 'propositional', 'clauses']"
        ],
        [
         "3",
         "cs-9311101v1",
         "The Difficulties of Learning Logic Programs with Cut",
         "As real logic programmers normally use cut (!), an effective learning\nprocedure for logic programs should be able to deal with it. Because the cut\npredicate has only a procedural meaning, clauses containing cut cannot be\nlearned using an extensional evaluation method, as is done in most learning\nsystems. On the other hand, searching a space of possible programs (instead of\na space of independent clauses) is unfeasible. An alternative solution is to\ngenerate first a candidate base program which covers the positive examples, and\nthen make it consistent by inserting cut where appropriate. The problem of\nlearning programs with cut has not been investigated before and this seems to\nbe a natural and reasonable approach. We generalize this scheme and investigate\nthe difficulties that arise. Some of the major shortcomings are actually\ncaused, in general, by the need for intensional evaluation. As a conclusion,\nthe analysis of this paper suggests, on precise and technical grounds, that\nlearning cut is difficult, and current induction techniques should probably be\nrestricted to purely declarative logic languages.",
         "[('predicate', 0.4523), ('logic', 0.3937), ('declarative', 0.373), ('extensional', 0.3437), ('clauses', 0.3301)]",
         "['predicate', 'logic', 'declarative', 'extensional', 'clauses']"
        ],
        [
         "4",
         "cs-9311102v1",
         "Software Agents: Completing Patterns and Constructing User Interfaces",
         "To support the goal of allowing users to record and retrieve information,\nthis paper describes an interactive note-taking system for pen-based computers\nwith two distinctive features. First, it actively predicts what the user is\ngoing to write. Second, it automatically constructs a custom, button-box user\ninterface on request. The system is an example of a learning-apprentice\nsoftware- agent. A machine learning component characterizes the syntax and\nsemantics of the user's information. A performance system uses this learned\ninformation to generate completion strings and construct a user interface.\nDescription of Online Appendix: People like to record information. Doing this\non paper is initially efficient, but lacks flexibility. Recording information\non a computer is less efficient but more powerful. In our new note taking\nsoftwre, the user records information directly on a computer. Behind the\ninterface, an agent acts for the user. To help, it provides defaults and\nconstructs a custom user interface. The demonstration is a QuickTime movie of\nthe note taking agent in action. The file is a binhexed self-extracting\narchive. Macintosh utilities for binhex are available from\nmac.archive.umich.edu. QuickTime is available from ftp.apple.com in the\ndts/mac/sys.soft/quicktime.",
         "[('software', 0.438), ('interactive', 0.437), ('quicktime', 0.4113), ('recording', 0.3849), ('file', 0.3662)]",
         "['software', 'interactive', 'quicktime', 'recording', 'file']"
        ]
       ],
       "shape": {
        "columns": 5,
        "rows": 5
       }
      },
      "text/html": [
       "<div>\n",
       "<style scoped>\n",
       "    .dataframe tbody tr th:only-of-type {\n",
       "        vertical-align: middle;\n",
       "    }\n",
       "\n",
       "    .dataframe tbody tr th {\n",
       "        vertical-align: top;\n",
       "    }\n",
       "\n",
       "    .dataframe thead th {\n",
       "        text-align: right;\n",
       "    }\n",
       "</style>\n",
       "<table border=\"1\" class=\"dataframe\">\n",
       "  <thead>\n",
       "    <tr style=\"text-align: right;\">\n",
       "      <th></th>\n",
       "      <th>id</th>\n",
       "      <th>title</th>\n",
       "      <th>summary</th>\n",
       "      <th>keyphrases</th>\n",
       "      <th>concepts_found</th>\n",
       "    </tr>\n",
       "  </thead>\n",
       "  <tbody>\n",
       "    <tr>\n",
       "      <th>0</th>\n",
       "      <td>cs-9308101v1</td>\n",
       "      <td>Dynamic Backtracking</td>\n",
       "      <td>Because of their occasional need to return to ...</td>\n",
       "      <td>[(backtracking, 0.5558), (backtrack, 0.4264), ...</td>\n",
       "      <td>[backtracking, backtrack, search, tree, approa...</td>\n",
       "    </tr>\n",
       "    <tr>\n",
       "      <th>1</th>\n",
       "      <td>cs-9308102v1</td>\n",
       "      <td>A Market-Oriented Programming Environment and ...</td>\n",
       "      <td>Market price systems constitute a well-underst...</td>\n",
       "      <td>[(allocations, 0.4223), (allocation, 0.4192), ...</td>\n",
       "      <td>[allocations, allocation, distributed, market,...</td>\n",
       "    </tr>\n",
       "    <tr>\n",
       "      <th>2</th>\n",
       "      <td>cs-9309101v1</td>\n",
       "      <td>An Empirical Analysis of Search in GSAT</td>\n",
       "      <td>We describe an extensive study of search in GS...</td>\n",
       "      <td>[(satisfiability, 0.5788), (algorithms, 0.4699...</td>\n",
       "      <td>[satisfiability, algorithms, 3sat, proposition...</td>\n",
       "    </tr>\n",
       "    <tr>\n",
       "      <th>3</th>\n",
       "      <td>cs-9311101v1</td>\n",
       "      <td>The Difficulties of Learning Logic Programs wi...</td>\n",
       "      <td>As real logic programmers normally use cut (!)...</td>\n",
       "      <td>[(predicate, 0.4523), (logic, 0.3937), (declar...</td>\n",
       "      <td>[predicate, logic, declarative, extensional, c...</td>\n",
       "    </tr>\n",
       "    <tr>\n",
       "      <th>4</th>\n",
       "      <td>cs-9311102v1</td>\n",
       "      <td>Software Agents: Completing Patterns and Const...</td>\n",
       "      <td>To support the goal of allowing users to recor...</td>\n",
       "      <td>[(software, 0.438), (interactive, 0.437), (qui...</td>\n",
       "      <td>[software, interactive, quicktime, recording, ...</td>\n",
       "    </tr>\n",
       "  </tbody>\n",
       "</table>\n",
       "</div>"
      ],
      "text/plain": [
       "             id                                              title  \\\n",
       "0  cs-9308101v1                               Dynamic Backtracking   \n",
       "1  cs-9308102v1  A Market-Oriented Programming Environment and ...   \n",
       "2  cs-9309101v1            An Empirical Analysis of Search in GSAT   \n",
       "3  cs-9311101v1  The Difficulties of Learning Logic Programs wi...   \n",
       "4  cs-9311102v1  Software Agents: Completing Patterns and Const...   \n",
       "\n",
       "                                             summary  \\\n",
       "0  Because of their occasional need to return to ...   \n",
       "1  Market price systems constitute a well-underst...   \n",
       "2  We describe an extensive study of search in GS...   \n",
       "3  As real logic programmers normally use cut (!)...   \n",
       "4  To support the goal of allowing users to recor...   \n",
       "\n",
       "                                          keyphrases  \\\n",
       "0  [(backtracking, 0.5558), (backtrack, 0.4264), ...   \n",
       "1  [(allocations, 0.4223), (allocation, 0.4192), ...   \n",
       "2  [(satisfiability, 0.5788), (algorithms, 0.4699...   \n",
       "3  [(predicate, 0.4523), (logic, 0.3937), (declar...   \n",
       "4  [(software, 0.438), (interactive, 0.437), (qui...   \n",
       "\n",
       "                                      concepts_found  \n",
       "0  [backtracking, backtrack, search, tree, approa...  \n",
       "1  [allocations, allocation, distributed, market,...  \n",
       "2  [satisfiability, algorithms, 3sat, proposition...  \n",
       "3  [predicate, logic, declarative, extensional, c...  \n",
       "4  [software, interactive, quicktime, recording, ...  "
      ]
     },
     "execution_count": 46,
     "metadata": {},
     "output_type": "execute_result"
    }
   ],
   "source": [
    "docs.head()"
   ]
  },
  {
   "cell_type": "markdown",
   "id": "1229b90f",
   "metadata": {},
   "source": [
    "## Part 1: LDA tuning and topic modeling with Gensim (next part using BERT and comparing results)"
   ]
  },
  {
   "cell_type": "code",
   "execution_count": 47,
   "id": "e53c1dfe",
   "metadata": {},
   "outputs": [],
   "source": [
    "from gensim.models import CoherenceModel\n",
    "from gensim.corpora import Dictionary\n",
    "from gensim.models import LdaModel"
   ]
  },
  {
   "cell_type": "code",
   "execution_count": 48,
   "id": "21d80af0",
   "metadata": {},
   "outputs": [],
   "source": [
    "texts = docs['concepts_found']\n",
    "dict = Dictionary(texts)"
   ]
  },
  {
   "cell_type": "code",
   "execution_count": 49,
   "id": "15be0636",
   "metadata": {},
   "outputs": [],
   "source": [
    "corpus = [dict.doc2bow(text) for text in docs['concepts_found']]"
   ]
  },
  {
   "cell_type": "code",
   "execution_count": 51,
   "id": "0f7bad2a",
   "metadata": {},
   "outputs": [
    {
     "name": "stdout",
     "output_type": "stream",
     "text": [
      "Topics: 2  →  Coherence: 0.2460\n",
      "Topics: 3  →  Coherence: 0.3856\n",
      "Topics: 4  →  Coherence: 0.2990\n",
      "Topics: 5  →  Coherence: 0.3117\n",
      "Topics: 6  →  Coherence: 0.3559\n",
      "Topics: 7  →  Coherence: 0.3321\n",
      "Topics: 8  →  Coherence: 0.3621\n",
      "Topics: 9  →  Coherence: 0.3800\n",
      "Topics: 10  →  Coherence: 0.4019\n",
      "Topics: 11  →  Coherence: 0.3881\n",
      "Topics: 12  →  Coherence: 0.3936\n",
      "Topics: 13  →  Coherence: 0.3976\n",
      "Topics: 14  →  Coherence: 0.3971\n",
      "Topics: 15  →  Coherence: 0.4331\n"
     ]
    }
   ],
   "source": [
    "coherence_scores = []\n",
    "topic_range = range(2, 16)\n",
    "lda_models = []\n",
    "\n",
    "for k in topic_range:\n",
    "    lda = LdaModel(corpus=corpus, id2word=dict, num_topics=k, random_state=0, passes=10)\n",
    "    lda_models.append(lda)\n",
    "\n",
    "    coherence_model = CoherenceModel(model=lda, texts=texts, dictionary=dict, coherence='c_v')\n",
    "    score = coherence_model.get_coherence()\n",
    "    coherence_scores.append(score)\n",
    "    \n",
    "    print(f\"Topics: {k}  →  Coherence: {score:.4f}\")"
   ]
  },
  {
   "cell_type": "code",
   "execution_count": null,
   "id": "d022f870",
   "metadata": {},
   "outputs": [
    {
     "ename": "NameError",
     "evalue": "name 'pd' is not defined",
     "output_type": "error",
     "traceback": [
      "\u001b[31m---------------------------------------------------------------------------\u001b[39m",
      "\u001b[31mNameError\u001b[39m                                 Traceback (most recent call last)",
      "\u001b[36mCell\u001b[39m\u001b[36m \u001b[39m\u001b[32mIn[1]\u001b[39m\u001b[32m, line 3\u001b[39m\n\u001b[32m      1\u001b[39m \u001b[38;5;28;01mimport\u001b[39;00m\u001b[38;5;250m \u001b[39m\u001b[34;01mnbformat\u001b[39;00m\n\u001b[32m      2\u001b[39m \u001b[38;5;66;03m# Plot coherence scores interactively\u001b[39;00m\n\u001b[32m----> \u001b[39m\u001b[32m3\u001b[39m score_df = \u001b[43mpd\u001b[49m.DataFrame({\u001b[33m\"\u001b[39m\u001b[33mNum Topics\u001b[39m\u001b[33m\"\u001b[39m: \u001b[38;5;28mlist\u001b[39m(topic_range), \u001b[33m\"\u001b[39m\u001b[33mCoherence\u001b[39m\u001b[33m\"\u001b[39m: coherence_scores})\n\u001b[32m      5\u001b[39m fig = px.line(score_df, x=\u001b[33m\"\u001b[39m\u001b[33mNum Topics\u001b[39m\u001b[33m\"\u001b[39m, y=\u001b[33m\"\u001b[39m\u001b[33mCoherence\u001b[39m\u001b[33m\"\u001b[39m, title=\u001b[33m\"\u001b[39m\u001b[33m📈 Coherence Score vs. Number of Topics\u001b[39m\u001b[33m\"\u001b[39m,\n\u001b[32m      6\u001b[39m               markers=\u001b[38;5;28;01mTrue\u001b[39;00m)\n\u001b[32m      7\u001b[39m fig.update_layout(xaxis_title=\u001b[33m\"\u001b[39m\u001b[33mNumber of Topics\u001b[39m\u001b[33m\"\u001b[39m, yaxis_title=\u001b[33m\"\u001b[39m\u001b[33mCoherence Score (c_v)\u001b[39m\u001b[33m\"\u001b[39m)\n",
      "\u001b[31mNameError\u001b[39m: name 'pd' is not defined"
     ]
    }
   ],
   "source": [
    "import nbformat\n",
    "# Plot coherence scores interactively\n",
    "score_df = pd.DataFrame({\"Num Topics\": list(topic_range), \"Coherence\": coherence_scores})\n",
    "\n",
    "fig = px.line(score_df, x=\"Num Topics\", y=\"Coherence\", title=\"📈 Coherence Score vs. Number of Topics\",\n",
    "              markers=True)\n",
    "fig.update_layout(xaxis_title=\"Number of Topics\", yaxis_title=\"Coherence Score (c_v)\")\n",
    "fig.show()"
   ]
  }
 ],
 "metadata": {
  "kernelspec": {
   "display_name": ".venv",
   "language": "python",
   "name": "python3"
  },
  "language_info": {
   "codemirror_mode": {
    "name": "ipython",
    "version": 3
   },
   "file_extension": ".py",
   "mimetype": "text/x-python",
   "name": "python",
   "nbconvert_exporter": "python",
   "pygments_lexer": "ipython3",
   "version": "3.12.10"
  }
 },
 "nbformat": 4,
 "nbformat_minor": 5
}
